{
 "cells": [
  {
   "cell_type": "code",
   "id": "initial_id",
   "metadata": {
    "collapsed": true,
    "ExecuteTime": {
     "end_time": "2024-08-01T21:52:51.939158Z",
     "start_time": "2024-08-01T21:52:50.419588Z"
    }
   },
   "source": [
    "import nltk\n",
    "nltk.download('stopwords')\n"
   ],
   "outputs": [
    {
     "name": "stderr",
     "output_type": "stream",
     "text": [
      "[nltk_data] Downloading package stopwords to /home/mite/nltk_data...\n",
      "[nltk_data]   Unzipping corpora/stopwords.zip.\n"
     ]
    },
    {
     "data": {
      "text/plain": [
       "True"
      ]
     },
     "execution_count": 4,
     "metadata": {},
     "output_type": "execute_result"
    }
   ],
   "execution_count": 4
  },
  {
   "metadata": {
    "ExecuteTime": {
     "end_time": "2024-08-01T21:54:23.376179Z",
     "start_time": "2024-08-01T21:54:20.021694Z"
    }
   },
   "cell_type": "code",
   "source": [
    "import nltk\n",
    "nltk.download('punkt')\n"
   ],
   "id": "2cddbb1c45f283f0",
   "outputs": [
    {
     "name": "stderr",
     "output_type": "stream",
     "text": [
      "[nltk_data] Downloading package punkt to /home/mite/nltk_data...\n",
      "[nltk_data]   Unzipping tokenizers/punkt.zip.\n"
     ]
    },
    {
     "data": {
      "text/plain": [
       "True"
      ]
     },
     "execution_count": 7,
     "metadata": {},
     "output_type": "execute_result"
    }
   ],
   "execution_count": 7
  },
  {
   "metadata": {
    "ExecuteTime": {
     "end_time": "2024-08-01T21:54:26.567585Z",
     "start_time": "2024-08-01T21:54:26.547244Z"
    }
   },
   "cell_type": "code",
   "source": [
    "import pandas as pd\n",
    "import string\n",
    "from nltk.corpus import stopwords\n",
    "from nltk.tokenize import word_tokenize\n",
    "from nltk.util import ngrams\n",
    "import nltk\n",
    "\n",
    "\n",
    "nltk.download('stopwords')\n",
    "\n",
    "\n",
    "sentence = \"I’m a part-time student @explore-software.\"\n",
    "\n",
    "\n",
    "stop_words = set(stopwords.words('english'))\n",
    "\n",
    "\n",
    "def process_sentence(sentence):\n",
    "\n",
    "    sentence = sentence.lower()\n",
    "    \n",
    "\n",
    "    sentence = sentence.translate(str.maketrans(string.punctuation, ' ' * len(string.punctuation)))\n",
    "    \n",
    "\n",
    "    words = word_tokenize(sentence)\n",
    "    \n",
    "\n",
    "    words = [word for word in words if word not in stop_words]\n",
    "    \n",
    "\n",
    "    bi_grams = list(ngrams(words, 2))\n",
    "    \n",
    "    return bi_grams\n",
    "\n",
    "\n",
    "bi_grams = process_sentence(sentence)\n",
    "\n",
    "\n",
    "print(f\"Number of bi-grams: {len(bi_grams)}\")\n"
   ],
   "id": "ae29279ed1ef7428",
   "outputs": [
    {
     "name": "stdout",
     "output_type": "stream",
     "text": [
      "Number of bi-grams: 5\n"
     ]
    },
    {
     "name": "stderr",
     "output_type": "stream",
     "text": [
      "[nltk_data] Downloading package stopwords to /home/mite/nltk_data...\n",
      "[nltk_data]   Package stopwords is already up-to-date!\n"
     ]
    }
   ],
   "execution_count": 8
  },
  {
   "metadata": {
    "ExecuteTime": {
     "end_time": "2024-08-01T21:59:44.113567Z",
     "start_time": "2024-08-01T21:59:44.094709Z"
    }
   },
   "cell_type": "code",
   "source": [
    "import pandas as pd\n",
    "\n",
    "\n",
    "essay_data = pd.read_csv('Essay_data.csv')\n",
    "\n",
    "\n",
    "essay_data = essay_data.dropna().reset_index(drop=True)\n",
    "\n",
    "\n",
    "n_count = essay_data[essay_data['N/S'].str.contains('N')].shape[0]\n",
    "s_count = essay_data[essay_data['N/S'].str.contains('S')].shape[0]\n",
    "\n",
    "\n",
    "ratio = n_count / s_count\n",
    "\n",
    "print(f\"Number of intuitive (N) students: {n_count}\")\n",
    "print(f\"Number of sensing (S) students: {s_count}\")\n",
    "print(f\"Ratio of intuitive (N) to sensing (S) students: {ratio:.2f}\")\n"
   ],
   "id": "2ab96161787ecec1",
   "outputs": [
    {
     "name": "stdout",
     "output_type": "stream",
     "text": [
      "Number of intuitive (N) students: 67\n",
      "Number of sensing (S) students: 26\n",
      "Ratio of intuitive (N) to sensing (S) students: 2.58\n"
     ]
    }
   ],
   "execution_count": 13
  },
  {
   "metadata": {
    "ExecuteTime": {
     "end_time": "2024-08-01T21:59:47.868880Z",
     "start_time": "2024-08-01T21:59:47.828258Z"
    }
   },
   "cell_type": "code",
   "source": [
    "import pandas as pd\n",
    "import string\n",
    "\n",
    "\n",
    "df = pd.read_csv('Essay_data.csv')\n",
    "\n",
    "\n",
    "df = df.dropna().reset_index(drop=True)\n",
    "\n",
    "\n",
    "df['Essay'] = df['Essay'].apply(lambda x: x.translate(str.maketrans('', '', string.punctuation)).lower())\n",
    "\n",
    "tenth_char = df['Essay'][0][9]\n",
    "print(tenth_char)\n"
   ],
   "id": "e987c36ad7589092",
   "outputs": [
    {
     "name": "stdout",
     "output_type": "stream",
     "text": [
      "4\n"
     ]
    }
   ],
   "execution_count": 14
  },
  {
   "metadata": {
    "ExecuteTime": {
     "end_time": "2024-08-01T22:00:24.038584Z",
     "start_time": "2024-08-01T22:00:23.791562Z"
    }
   },
   "cell_type": "code",
   "source": [
    "import pandas as pd\n",
    "import string\n",
    "from nltk.tokenize import word_tokenize\n",
    "import nltk\n",
    "\n",
    "\n",
    "nltk.download('punkt')\n",
    "\n",
    "\n",
    "df = pd.read_csv('Essay_data.csv')\n",
    "\n",
    "\n",
    "df = df.dropna().reset_index(drop=True)\n",
    "\n",
    "\n",
    "df['Essay'] = df['Essay'].apply(lambda x: x.translate(str.maketrans('', '', string.punctuation)).lower())\n",
    "\n",
    "\n",
    "df['Tokens'] = df['Essay'].apply(word_tokenize)\n",
    "\n",
    "\n",
    "num_tokens = len(df['Tokens'][16])\n",
    "print(num_tokens)\n"
   ],
   "id": "dbd01cfc715062df",
   "outputs": [
    {
     "name": "stderr",
     "output_type": "stream",
     "text": [
      "[nltk_data] Downloading package punkt to /home/mite/nltk_data...\n",
      "[nltk_data]   Package punkt is already up-to-date!\n"
     ]
    },
    {
     "name": "stdout",
     "output_type": "stream",
     "text": [
      "440\n"
     ]
    }
   ],
   "execution_count": 15
  },
  {
   "metadata": {
    "ExecuteTime": {
     "end_time": "2024-08-01T22:01:47.035033Z",
     "start_time": "2024-08-01T22:01:47.025827Z"
    }
   },
   "cell_type": "code",
   "source": [
    "from nltk.stem import SnowballStemmer\n",
    "\n",
    "\n",
    "stemmer = SnowballStemmer(\"english\")\n",
    "\n",
    "\n",
    "stemmed_word = stemmer.stem(\"experiences\")\n",
    "print(stemmed_word)\n"
   ],
   "id": "39f8abf1cc78e68b",
   "outputs": [
    {
     "name": "stdout",
     "output_type": "stream",
     "text": [
      "experi\n"
     ]
    }
   ],
   "execution_count": 16
  },
  {
   "metadata": {
    "ExecuteTime": {
     "end_time": "2024-08-01T22:02:53.328287Z",
     "start_time": "2024-08-01T22:02:53.147253Z"
    }
   },
   "cell_type": "code",
   "source": [
    "import pandas as pd\n",
    "import string\n",
    "from nltk.corpus import stopwords\n",
    "from nltk.tokenize import word_tokenize\n",
    "import nltk\n",
    "\n",
    "\n",
    "nltk.download('punkt')\n",
    "nltk.download('stopwords')\n",
    "\n",
    "\n",
    "df = pd.read_csv('Essay_data.csv')\n",
    "\n",
    "df = df.dropna().reset_index(drop=True)\n",
    "\n",
    "\n",
    "df['Essay'] = df['Essay'].apply(lambda x: x.translate(str.maketrans('', '', string.punctuation)).lower())\n",
    "\n",
    "\n",
    "df['Tokens'] = df['Essay'].apply(word_tokenize)\n",
    "\n",
    "stop_words = set(stopwords.words('english'))\n",
    "df['Tokens'] = df['Tokens'].apply(lambda x: [word for word in x if word not in stop_words])\n",
    "\n",
    "\n",
    "twenty_fourth_token = df['Tokens'][80][23]\n",
    "print(twenty_fourth_token)\n"
   ],
   "id": "e8f9ec7fe542f74d",
   "outputs": [
    {
     "name": "stdout",
     "output_type": "stream",
     "text": [
      "selfconfidence\n"
     ]
    },
    {
     "name": "stderr",
     "output_type": "stream",
     "text": [
      "[nltk_data] Downloading package punkt to /home/mite/nltk_data...\n",
      "[nltk_data]   Package punkt is already up-to-date!\n",
      "[nltk_data] Downloading package stopwords to /home/mite/nltk_data...\n",
      "[nltk_data]   Package stopwords is already up-to-date!\n"
     ]
    }
   ],
   "execution_count": 17
  },
  {
   "metadata": {
    "ExecuteTime": {
     "end_time": "2024-08-01T22:03:22.114021Z",
     "start_time": "2024-08-01T22:03:21.927658Z"
    }
   },
   "cell_type": "code",
   "source": [
    "import pandas as pd\n",
    "import string\n",
    "from nltk.corpus import stopwords\n",
    "from nltk.tokenize import word_tokenize\n",
    "import nltk\n",
    "\n",
    "\n",
    "nltk.download('punkt')\n",
    "nltk.download('stopwords')\n",
    "\n",
    "\n",
    "df = pd.read_csv('Essay_data.csv')\n",
    "\n",
    "\n",
    "df = df.dropna().reset_index(drop=True)\n",
    "\n",
    "df['Essay'] = df['Essay'].apply(lambda x: x.translate(str.maketrans('', '', string.punctuation)).lower())\n",
    "\n",
    "df['Tokens'] = df['Essay'].apply(word_tokenize)\n",
    "\n",
    "\n",
    "stop_words = set(stopwords.words('english'))\n",
    "df['Tokens'] = df['Tokens'].apply(lambda x: [word for word in x if word not in stop_words])\n",
    "\n",
    "\n",
    "unique_words = set(word for tokens in df['Tokens'] for word in tokens)\n",
    "num_unique_words = len(unique_words)\n",
    "print(num_unique_words)\n"
   ],
   "id": "c10715cc841e28d5",
   "outputs": [
    {
     "name": "stdout",
     "output_type": "stream",
     "text": [
      "3406\n"
     ]
    },
    {
     "name": "stderr",
     "output_type": "stream",
     "text": [
      "[nltk_data] Downloading package punkt to /home/mite/nltk_data...\n",
      "[nltk_data]   Package punkt is already up-to-date!\n",
      "[nltk_data] Downloading package stopwords to /home/mite/nltk_data...\n",
      "[nltk_data]   Package stopwords is already up-to-date!\n"
     ]
    }
   ],
   "execution_count": 18
  },
  {
   "metadata": {
    "ExecuteTime": {
     "end_time": "2024-08-01T22:04:11.115321Z",
     "start_time": "2024-08-01T22:04:11.019760Z"
    }
   },
   "cell_type": "code",
   "source": [
    "import pandas as pd\n",
    "import string\n",
    "from sklearn.feature_extraction.text import CountVectorizer\n",
    "import nltk\n",
    "\n",
    "\n",
    "nltk.download('punkt')\n",
    "nltk.download('stopwords')\n",
    "\n",
    "\n",
    "df = pd.read_csv('Essay_data.csv')\n",
    "\n",
    "df = df.dropna().reset_index(drop=True)\n",
    "\n",
    "\n",
    "df['Essay'] = df['Essay'].apply(lambda x: x.translate(str.maketrans('', '', string.punctuation)).lower())\n",
    "\n",
    "vectorizer = CountVectorizer(stop_words='english')\n",
    "\n",
    "\n",
    "X = vectorizer.fit_transform(df['Essay'])\n",
    "\n",
    "\n",
    "bow_df = pd.DataFrame(X.toarray(), columns=vectorizer.get_feature_names_out())\n",
    "\n",
    "\n",
    "time_count = bow_df.loc[55, 'time']\n",
    "print(time_count)\n"
   ],
   "id": "9f5f934e882e1c98",
   "outputs": [
    {
     "name": "stdout",
     "output_type": "stream",
     "text": [
      "2\n"
     ]
    },
    {
     "name": "stderr",
     "output_type": "stream",
     "text": [
      "[nltk_data] Downloading package punkt to /home/mite/nltk_data...\n",
      "[nltk_data]   Package punkt is already up-to-date!\n",
      "[nltk_data] Downloading package stopwords to /home/mite/nltk_data...\n",
      "[nltk_data]   Package stopwords is already up-to-date!\n"
     ]
    }
   ],
   "execution_count": 19
  },
  {
   "metadata": {
    "ExecuteTime": {
     "end_time": "2024-08-01T22:04:46.194609Z",
     "start_time": "2024-08-01T22:04:46.007214Z"
    }
   },
   "cell_type": "code",
   "source": [
    "import pandas as pd\n",
    "import string\n",
    "from nltk.corpus import stopwords\n",
    "from nltk.tokenize import word_tokenize\n",
    "from collections import Counter\n",
    "import nltk\n",
    "\n",
    "\n",
    "nltk.download('punkt')\n",
    "nltk.download('stopwords')\n",
    "\n",
    "\n",
    "df = pd.read_csv('Essay_data.csv')\n",
    "\n",
    "\n",
    "df = df.dropna().reset_index(drop=True)\n",
    "\n",
    "df['Essay'] = df['Essay'].apply(lambda x: x.translate(str.maketrans('', '', string.punctuation)).lower())\n",
    "\n",
    "df['Tokens'] = df['Essay'].apply(word_tokenize)\n",
    "\n",
    "\n",
    "stop_words = set(stopwords.words('english'))\n",
    "df['Tokens'] = df['Tokens'].apply(lambda x: [word for word in x if word not in stop_words])\n",
    "\n",
    "\n",
    "all_tokens = [word for tokens in df['Tokens'] for word in tokens]\n",
    "\n",
    "\n",
    "word_counts = Counter(all_tokens)\n",
    "\n",
    "\n",
    "total_words = sum(word_counts.values())\n",
    "\n",
    "words_at_least_twice = sum(count for word, count in word_counts.items() if count >= 2)\n",
    "\n",
    "\n",
    "percentage = (words_at_least_twice / total_words) * 100\n",
    "print(percentage)\n"
   ],
   "id": "cebf583972ce6bfd",
   "outputs": [
    {
     "name": "stdout",
     "output_type": "stream",
     "text": [
      "89.87914542642763\n"
     ]
    },
    {
     "name": "stderr",
     "output_type": "stream",
     "text": [
      "[nltk_data] Downloading package punkt to /home/mite/nltk_data...\n",
      "[nltk_data]   Package punkt is already up-to-date!\n",
      "[nltk_data] Downloading package stopwords to /home/mite/nltk_data...\n",
      "[nltk_data]   Package stopwords is already up-to-date!\n"
     ]
    }
   ],
   "execution_count": 20
  },
  {
   "metadata": {
    "ExecuteTime": {
     "end_time": "2024-08-01T22:07:42.856179Z",
     "start_time": "2024-08-01T22:07:42.807334Z"
    }
   },
   "cell_type": "code",
   "source": [
    "import pandas as pd\n",
    "import string\n",
    "from sklearn.feature_extraction.text import CountVectorizer\n",
    "import nltk\n",
    "\n",
    "nltk.download('punkt')\n",
    "nltk.download('stopwords')\n",
    "\n",
    "df = pd.read_csv('Essay_data.csv')\n",
    "\n",
    "\n",
    "df = df.dropna().reset_index(drop=True)\n",
    "\n",
    "\n",
    "df['Essay'] = df['Essay'].apply(lambda x: x.translate(str.maketrans('', '', string.punctuation)).lower())\n",
    "\n",
    "\n",
    "df['Personality'] = df['I/E'] + df['N/S'] + df['T/F'] + df['J/P']\n",
    "\n",
    "\n",
    "enfj_essays = df[df['Personality'] == 'ENFJ']['Essay']\n",
    "\n",
    "\n",
    "vectorizer = CountVectorizer(stop_words='english')\n",
    "\n",
    "\n",
    "X = vectorizer.fit_transform(enfj_essays)\n",
    "\n",
    "\n",
    "bow_df = pd.DataFrame(X.toarray(), columns=vectorizer.get_feature_names_out())\n",
    "\n",
    "\n",
    "most_common_word = bow_df.sum().idxmax()\n",
    "print(most_common_word)\n"
   ],
   "id": "3c3c95bfa7b25063",
   "outputs": [
    {
     "name": "stdout",
     "output_type": "stream",
     "text": [
      "team\n"
     ]
    },
    {
     "name": "stderr",
     "output_type": "stream",
     "text": [
      "[nltk_data] Downloading package punkt to /home/mite/nltk_data...\n",
      "[nltk_data]   Package punkt is already up-to-date!\n",
      "[nltk_data] Downloading package stopwords to /home/mite/nltk_data...\n",
      "[nltk_data]   Package stopwords is already up-to-date!\n"
     ]
    }
   ],
   "execution_count": 23
  },
  {
   "metadata": {
    "ExecuteTime": {
     "end_time": "2024-08-01T22:08:18.375554Z",
     "start_time": "2024-08-01T22:08:18.170853Z"
    }
   },
   "cell_type": "code",
   "source": [
    "import pandas as pd\n",
    "import string\n",
    "from nltk.util import ngrams\n",
    "from nltk.tokenize import word_tokenize\n",
    "import nltk\n",
    "\n",
    "\n",
    "nltk.download('punkt')\n",
    "nltk.download('stopwords')\n",
    "\n",
    "\n",
    "df = pd.read_csv('Essay_data.csv')\n",
    "\n",
    "\n",
    "df = df.dropna().reset_index(drop=True)\n",
    "\n",
    "\n",
    "df['Essay'] = df['Essay'].apply(lambda x: x.translate(str.maketrans('', '', string.punctuation)).lower())\n",
    "\n",
    "\n",
    "df['Tokens'] = df['Essay'].apply(word_tokenize)\n",
    "\n",
    "\n",
    "df['Bigrams'] = df['Tokens'].apply(lambda x: list(ngrams(x, 2)))\n",
    "\n",
    "\n",
    "one_hundred_ninth_bigram = df['Bigrams'][69][108]\n",
    "print(one_hundred_ninth_bigram)\n"
   ],
   "id": "4dcb344bd9bc935d",
   "outputs": [
    {
     "name": "stdout",
     "output_type": "stream",
     "text": [
      "('which', 'i')\n"
     ]
    },
    {
     "name": "stderr",
     "output_type": "stream",
     "text": [
      "[nltk_data] Downloading package punkt to /home/mite/nltk_data...\n",
      "[nltk_data]   Package punkt is already up-to-date!\n",
      "[nltk_data] Downloading package stopwords to /home/mite/nltk_data...\n",
      "[nltk_data]   Package stopwords is already up-to-date!\n"
     ]
    }
   ],
   "execution_count": 24
  },
  {
   "metadata": {},
   "cell_type": "code",
   "outputs": [],
   "execution_count": null,
   "source": "",
   "id": "658684a988c1e8c2"
  }
 ],
 "metadata": {
  "kernelspec": {
   "display_name": "Python 3",
   "language": "python",
   "name": "python3"
  },
  "language_info": {
   "codemirror_mode": {
    "name": "ipython",
    "version": 2
   },
   "file_extension": ".py",
   "mimetype": "text/x-python",
   "name": "python",
   "nbconvert_exporter": "python",
   "pygments_lexer": "ipython2",
   "version": "2.7.6"
  }
 },
 "nbformat": 4,
 "nbformat_minor": 5
}
