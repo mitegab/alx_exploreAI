{
 "cells": [
  {
   "metadata": {
    "ExecuteTime": {
     "end_time": "2024-08-01T21:30:54.186202Z",
     "start_time": "2024-08-01T21:30:48.183209Z"
    }
   },
   "cell_type": "code",
   "source": "!pip install openpyxl\n",
   "id": "cb2e7144ff3ac0c1",
   "outputs": [
    {
     "name": "stdout",
     "output_type": "stream",
     "text": [
      "Collecting openpyxl\r\n",
      "  Downloading openpyxl-3.1.5-py2.py3-none-any.whl.metadata (2.5 kB)\r\n",
      "Collecting et-xmlfile (from openpyxl)\r\n",
      "  Downloading et_xmlfile-1.1.0-py3-none-any.whl.metadata (1.8 kB)\r\n",
      "Downloading openpyxl-3.1.5-py2.py3-none-any.whl (250 kB)\r\n",
      "\u001B[2K   \u001B[90m━━━━━━━━━━━━━━━━━━━━━━━━━━━━━━━━━━━━━━━\u001B[0m \u001B[32m250.9/250.9 kB\u001B[0m \u001B[31m296.2 kB/s\u001B[0m eta \u001B[36m0:00:00\u001B[0ma \u001B[36m0:00:01\u001B[0m\r\n",
      "\u001B[?25hDownloading et_xmlfile-1.1.0-py3-none-any.whl (4.7 kB)\r\n",
      "Installing collected packages: et-xmlfile, openpyxl\r\n",
      "Successfully installed et-xmlfile-1.1.0 openpyxl-3.1.5\r\n"
     ]
    }
   ],
   "execution_count": 2
  },
  {
   "cell_type": "code",
   "id": "initial_id",
   "metadata": {
    "collapsed": true,
    "ExecuteTime": {
     "end_time": "2024-08-01T21:30:58.029536Z",
     "start_time": "2024-08-01T21:30:57.744321Z"
    }
   },
   "source": [
    "import pandas as pd\n",
    "\n",
    "# Load the IPL match data\n",
    "matches = pd.read_excel('matches.xlsx')\n",
    "\n",
    "# Calculate the proportion of matches where dl_applied is 1\n",
    "dl_applied_count = matches['dl_applied'].sum()\n",
    "total_matches = len(matches)\n",
    "proportion = (dl_applied_count / total_matches) * 100\n",
    "\n",
    "print(f\"Proportion of matches where DL method was applied: {proportion:.2f}%\")\n"
   ],
   "outputs": [
    {
     "name": "stdout",
     "output_type": "stream",
     "text": [
      "Proportion of matches where DL method was applied: 2.52%\n"
     ]
    }
   ],
   "execution_count": 3
  },
  {
   "metadata": {
    "ExecuteTime": {
     "end_time": "2024-08-01T21:35:40.971226Z",
     "start_time": "2024-08-01T21:35:40.675742Z"
    }
   },
   "cell_type": "code",
   "source": [
    "import pandas as pd\n",
    "\n",
    "# Load the IPL match data\n",
    "matches = pd.read_excel('matches.xlsx')\n",
    "\n",
    "# Calculate the number of matches won by the team who batted first\n",
    "bat_first_wins = matches[matches['win_by_runs'] > 0].shape[0]\n",
    "\n",
    "# Calculate the total number of matches\n",
    "total_matches = matches.shape[0]\n",
    "\n",
    "# Calculate the proportion\n",
    "proportion = (bat_first_wins / total_matches) * 100\n",
    "\n",
    "print(f\"Proportion of matches won by the team who batted first: {proportion:.2f}%\")\n"
   ],
   "id": "da0f85c6d0d2efd9",
   "outputs": [
    {
     "name": "stdout",
     "output_type": "stream",
     "text": [
      "Proportion of matches won by the team who batted first: 45.13%\n"
     ]
    }
   ],
   "execution_count": 4
  },
  {
   "metadata": {
    "ExecuteTime": {
     "end_time": "2024-08-01T21:36:18.955189Z",
     "start_time": "2024-08-01T21:36:18.751719Z"
    }
   },
   "cell_type": "code",
   "source": [
    "import pandas as pd\n",
    "\n",
    "# Load the IPL match data\n",
    "matches = pd.read_excel('matches.xlsx')\n",
    "\n",
    "# Create the 'is_april' feature\n",
    "matches['is_april'] = matches['date'].apply(lambda x: x.month == 4)\n",
    "\n",
    "# Create the 'chose_to_field' feature\n",
    "matches['chose_to_field'] = matches['toss_decision'].apply(lambda x: x == 'field')\n",
    "\n",
    "# Count the number of April games\n",
    "april_games = matches['is_april'].sum()\n",
    "\n",
    "# Count the number of times the toss winners chose to field first\n",
    "field_first_choices = matches['chose_to_field'].sum()\n",
    "\n",
    "print(f\"Number of April games: {april_games}\")\n",
    "print(f\"Number of choices to field first: {field_first_choices}\")\n"
   ],
   "id": "8121e511b53cb7e",
   "outputs": [
    {
     "name": "stdout",
     "output_type": "stream",
     "text": [
      "Number of April games: 297\n",
      "Number of choices to field first: 363\n"
     ]
    }
   ],
   "execution_count": 5
  },
  {
   "metadata": {
    "ExecuteTime": {
     "end_time": "2024-08-01T21:37:26.581080Z",
     "start_time": "2024-08-01T21:37:26.100297Z"
    }
   },
   "cell_type": "code",
   "source": [
    "import pandas as pd\n",
    "from sklearn.model_selection import train_test_split\n",
    "from sklearn.tree import DecisionTreeClassifier\n",
    "from sklearn.metrics import confusion_matrix, classification_report\n",
    "\n",
    "# Load the IPL match data\n",
    "matches = pd.read_excel('matches.xlsx')\n",
    "\n",
    "# Create the features\n",
    "matches['is_april'] = matches['date'].apply(lambda x: x.month == 4)\n",
    "matches['chose_to_field'] = matches['toss_decision'].apply(lambda x: x == 'field')\n",
    "\n",
    "# Define the target variable for close matches\n",
    "matches['close_match'] = ((matches['win_by_runs'] <= 20) | (matches['win_by_wickets'] <= 4)).astype(int)\n",
    "\n",
    "# Define features (X) and target (y)\n",
    "X = matches[['is_april', 'chose_to_field', 'dl_applied']]\n",
    "y = matches['close_match']\n",
    "\n",
    "# Split into training and testing sets (75/25 split)\n",
    "X_train, X_test, y_train, y_test = train_test_split(X, y, test_size=0.25, random_state=999)\n",
    "\n",
    "# Create and train the decision tree classifier\n",
    "dt_classifier = DecisionTreeClassifier(random_state=999)\n",
    "dt_classifier.fit(X_train, y_train)\n",
    "\n",
    "# Make predictions on the test set\n",
    "y_pred = dt_classifier.predict(X_test)\n",
    "\n",
    "# Generate the confusion matrix\n",
    "cm = confusion_matrix(y_test, y_pred)\n",
    "print(\"Confusion Matrix:\\n\", cm)\n",
    "\n",
    "# Additional performance metrics\n",
    "print(\"\\nClassification Report:\\n\", classification_report(y_test, y_pred))\n"
   ],
   "id": "738a44f5cdb126f4",
   "outputs": [
    {
     "name": "stdout",
     "output_type": "stream",
     "text": [
      "Confusion Matrix:\n",
      " [[159]]\n",
      "\n",
      "Classification Report:\n",
      "               precision    recall  f1-score   support\n",
      "\n",
      "           1       1.00      1.00      1.00       159\n",
      "\n",
      "    accuracy                           1.00       159\n",
      "   macro avg       1.00      1.00      1.00       159\n",
      "weighted avg       1.00      1.00      1.00       159\n",
      "\n"
     ]
    },
    {
     "name": "stderr",
     "output_type": "stream",
     "text": [
      "/home/mite/miniconda3/lib/python3.12/site-packages/sklearn/metrics/_classification.py:409: UserWarning: A single label was found in 'y_true' and 'y_pred'. For the confusion matrix to have the correct shape, use the 'labels' parameter to pass all known labels.\n",
      "  warnings.warn(\n"
     ]
    }
   ],
   "execution_count": 6
  },
  {
   "metadata": {},
   "cell_type": "code",
   "outputs": [],
   "execution_count": null,
   "source": "",
   "id": "9d04805059f74300"
  }
 ],
 "metadata": {
  "kernelspec": {
   "display_name": "Python 3",
   "language": "python",
   "name": "python3"
  },
  "language_info": {
   "codemirror_mode": {
    "name": "ipython",
    "version": 2
   },
   "file_extension": ".py",
   "mimetype": "text/x-python",
   "name": "python",
   "nbconvert_exporter": "python",
   "pygments_lexer": "ipython2",
   "version": "2.7.6"
  }
 },
 "nbformat": 4,
 "nbformat_minor": 5
}
